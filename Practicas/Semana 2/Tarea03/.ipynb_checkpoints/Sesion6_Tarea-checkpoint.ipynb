{
 "cells": [
  {
   "cell_type": "markdown",
   "id": "714a78a8-25d9-467b-a899-8e387b06e319",
   "metadata": {
    "jp-MarkdownHeadingCollapsed": true
   },
   "source": [
    "# 🚀 Ventajas de usar VS Code."
   ]
  },
  {
   "cell_type": "markdown",
   "id": "f55cfc7f-0d4a-4b77-8534-dfe4c382c6ba",
   "metadata": {},
   "source": [
    "### Visual y rápido\n",
    "- Ves de inmediato qué archivos están modificados, nuevos o eliminados.\n",
    "- No tienes que recordar rutas ni escribir git status, todo aparece con iconitos y colores."
   ]
  },
  {
   "cell_type": "markdown",
   "id": "1e34aa37-6b8b-44d4-93ed-f109b1b65420",
   "metadata": {},
   "source": [
    "### Add selectivo más sencillo\n",
    "- Puedes marcar con un clic qué archivos quieres hacer stage (git add).\n",
    "- Incluso puedes seleccionar líneas específicas de un archivo con el \"Source Control\" y agregar solo esas.\n"
   ]
  },
  {
   "cell_type": "markdown",
   "id": "082cdd68-0391-4071-97ba-3f239032e943",
   "metadata": {},
   "source": [
    "### Historial y cambios visibles\n",
    "- Desde el sidebar ves el historial de commits. \n",
    "- Puedes revisar los diffs de cada archivo antes de hacer commit, línea por línea, sin salir del editor.\n"
   ]
  },
  {
   "cell_type": "markdown",
   "id": "197e2e3d-a74c-42ec-9fab-dfa81d37101b",
   "metadata": {},
   "source": [
    "### Menos errores de tipeo\n",
    "- Evitas equivocarte con comandos o rutas largas.\n",
    "- Menos probabilidad de hacer un git add . sin querer y subir basura.\n"
   ]
  },
  {
   "cell_type": "markdown",
   "id": "9d01942c-b340-4f8d-90b8-a616de7d7c5b",
   "metadata": {},
   "source": [
    "### Integración con extensiones\n",
    "- Hay extensiones que mejoran el flujo: GitLens, Git Graph, etc.\n",
    "- Puedes ver ramas, comparar commits, ver quién cambió qué línea y cuándo, sin salir del editor."
   ]
  },
  {
   "cell_type": "markdown",
   "id": "dba91db1-0371-4a5b-ac7e-ecbdbdaa8b1d",
   "metadata": {},
   "source": [
    "### Push/Pull más cómodo\n",
    "- Un botón para hacer push o pull sin recordar opciones.\n",
    "- Te avisa si hay conflictos y los abre directo en el editor para resolverlos."
   ]
  },
  {
   "cell_type": "markdown",
   "id": "e5d36579-9b3b-4111-96fa-c7c5e0e685af",
   "metadata": {},
   "source": [
    "### Ideal para principiantes\n",
    "- Facilita aprender el flujo sin saturarte con comandos.\n",
    "- Te da confianza porque ves de manera visual qué estás haciendo antes de confirmar."
   ]
  },
  {
   "cell_type": "markdown",
   "id": "ed0d0b93-4d74-4ed9-b6ea-572e8bd30f0c",
   "metadata": {},
   "source": [
    "### Visual y rápido\n",
    "- Ves de inmediato qué archivos están modificados, nuevos o eliminados.\n",
    "- No tienes que recordar rutas ni escribir git status, todo aparece con iconitos y colores."
   ]
  },
  {
   "cell_type": "markdown",
   "id": "8e32c439-a588-4799-b9e0-8aaff92db48b",
   "metadata": {
    "jp-MarkdownHeadingCollapsed": true
   },
   "source": [
    "# Código en Python que lea un CSV con Pandas."
   ]
  },
  {
   "cell_type": "markdown",
   "id": "c097a884-a188-42d5-a579-8107fc77e5fb",
   "metadata": {},
   "source": [
    "### 🔹 1. Crear el archivo ejem_sesion6.csv"
   ]
  },
  {
   "cell_type": "code",
   "execution_count": 5,
   "id": "7cc188ad-4864-467a-8239-94eb8f394b3a",
   "metadata": {},
   "outputs": [
    {
     "name": "stdout",
     "output_type": "stream",
     "text": [
      "Archivo 'ejem_sesion6.csv' creado ✅\n"
     ]
    }
   ],
   "source": [
    "import pandas as pd\n",
    "\n",
    "# Datos de ejemplo\n",
    "data = {\n",
    "    \"nombre\": [\"Ana\", \"Luis\", \"Sofía\"],\n",
    "    \"edad\": [23, 30, 27],\n",
    "    \"ciudad\": [\"México\", \"Guadalajara\", \"Monterrey\"]\n",
    "}\n",
    "\n",
    "# Convertimos en DataFrame y lo guardamos como CSV\n",
    "df_ejemplo = pd.DataFrame(data)\n",
    "df_ejemplo.to_csv(\"ejem_sesion6.csv\", index=False)\n",
    "\n",
    "print(\"Archivo 'ejem_sesion6.csv' creado ✅\")\n"
   ]
  },
  {
   "cell_type": "markdown",
   "id": "0892cb92-6313-4d36-a960-2c9e62be4251",
   "metadata": {},
   "source": [
    "### 🔹 2. Leer el archivo ejem_sesion6.csv"
   ]
  },
  {
   "cell_type": "code",
   "execution_count": 6,
   "id": "6951aa5b-254d-4fb4-8200-4544f344d183",
   "metadata": {},
   "outputs": [
    {
     "name": "stdout",
     "output_type": "stream",
     "text": [
      "Contenido del CSV leído:\n",
      "  nombre  edad       ciudad\n",
      "0    Ana    23       México\n",
      "1   Luis    30  Guadalajara\n",
      "2  Sofía    27    Monterrey\n",
      "\n",
      "Información del dataset:\n",
      "<class 'pandas.core.frame.DataFrame'>\n",
      "RangeIndex: 3 entries, 0 to 2\n",
      "Data columns (total 3 columns):\n",
      " #   Column  Non-Null Count  Dtype \n",
      "---  ------  --------------  ----- \n",
      " 0   nombre  3 non-null      object\n",
      " 1   edad    3 non-null      int64 \n",
      " 2   ciudad  3 non-null      object\n",
      "dtypes: int64(1), object(2)\n",
      "memory usage: 204.0+ bytes\n",
      "None\n"
     ]
    }
   ],
   "source": [
    "import pandas as pd\n",
    "\n",
    "# Leemos el archivo creado\n",
    "df = pd.read_csv(\"ejem_sesion6.csv\")\n",
    "\n",
    "print(\"Contenido del CSV leído:\")\n",
    "print(df.head())\n",
    "\n",
    "print(\"\\nInformación del dataset:\")\n",
    "print(df.info())\n"
   ]
  },
  {
   "cell_type": "markdown",
   "id": "e7864307-6763-43b4-84a7-03ceab06eabe",
   "metadata": {
    "jp-MarkdownHeadingCollapsed": true
   },
   "source": [
    "# Gráfico con Seaborn.  "
   ]
  },
  {
   "cell_type": "markdown",
   "id": "91064b1f-ad6c-4826-8442-5741136b3d09",
   "metadata": {},
   "source": [
    "### 🔹 1. Crear los datos de ejemplo."
   ]
  },
  {
   "cell_type": "code",
   "execution_count": 8,
   "id": "e75af50c-a613-4ee0-8bc3-affdc13b44b5",
   "metadata": {},
   "outputs": [
    {
     "name": "stdout",
     "output_type": "stream",
     "text": [
      "DataFrame creado ✅\n",
      "   nombre  edad       ciudad\n",
      "0     Ana    23       México\n",
      "1    Luis    30  Guadalajara\n",
      "2   Sofía    27    Monterrey\n",
      "3  Carlos    35       México\n",
      "4   Marta    29  Guadalajara\n"
     ]
    }
   ],
   "source": [
    "import pandas as pd\n",
    "\n",
    "# Creamos un DataFrame de ejemplo\n",
    "data = {\n",
    "    \"nombre\": [\"Ana\", \"Luis\", \"Sofía\", \"Carlos\", \"Marta\"],\n",
    "    \"edad\": [23, 30, 27, 35, 29],\n",
    "    \"ciudad\": [\"México\", \"Guadalajara\", \"Monterrey\", \"México\", \"Guadalajara\"]\n",
    "}\n",
    "\n",
    "df = pd.DataFrame(data)\n",
    "\n",
    "print(\"DataFrame creado ✅\")\n",
    "print(df)\n"
   ]
  },
  {
   "cell_type": "markdown",
   "id": "518e34a3-a299-4153-84dc-7dc9651f3808",
   "metadata": {},
   "source": [
    "### 🔹 2. Hacer un gráfico con Seaborn"
   ]
  },
  {
   "cell_type": "code",
   "execution_count": 10,
   "id": "f5fe9947-85e0-4ebe-b707-4c568f51fd21",
   "metadata": {},
   "outputs": [
    {
     "data": {
      "image/png": "[encoded data removed]",
      "text/plain": [
       "<Figure size 640x480 with 1 Axes>"
      ]
     },
     "metadata": {},
     "output_type": "display_data"
    }
   ],
   "source": [
    "import seaborn as sns\n",
    "import matplotlib.pyplot as plt\n",
    "\n",
    "# Gráfico de barras: promedio de edad por ciudad\n",
    "sns.barplot(x=\"ciudad\", y=\"edad\", data=df, estimator=\"mean\")\n",
    "\n",
    "plt.title(\"Promedio de edad por ciudad\")\n",
    "plt.show()\n"
   ]
  }
 ],
 "metadata": {
  "kernelspec": {
   "display_name": "Python 3 (ipykernel)",
   "language": "python",
   "name": "python3"
  },
  "language_info": {
   "codemirror_mode": {
    "name": "ipython",
    "version": 3
   },
   "file_extension": ".py",
   "mimetype": "text/x-python",
   "name": "python",
   "nbconvert_exporter": "python",
   "pygments_lexer": "ipython3",
   "version": "3.12.3"
  }
 },
 "nbformat": 4,
 "nbformat_minor": 5
}
