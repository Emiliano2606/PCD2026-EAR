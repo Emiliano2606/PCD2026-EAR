{
 "cells": [
  {
   "cell_type": "markdown",
   "id": "347f46dc-dd78-4e24-acfe-832d7b7a4aea",
   "metadata": {},
   "source": [
    "## 📌 Tarea del equipo AER\n",
    "Crea un notebook llamado **`tipos_datos.ipynb`** con al menos 3 ejemplos de conversiones y comentarios explicando cada paso.\n",
    "\n",
    "Ejemplo de comentario:\n",
    "```python\n",
    "texto_num = \"50\"\n",
    "numero = int(texto_num)  # Convertimos el string \"50\" a número entero\n",
    "```\n",
    "\n",
    "\n",
    "\n",
    "    \n"
   ]
  },
  {
   "cell_type": "code",
   "execution_count": null,
   "id": "36f5721d-73cf-4a8e-a2a8-c9c2ff378354",
   "metadata": {},
   "outputs": [],
   "source": [
    "#Ejemplo 1 pasar de flotante a string\n",
    "\n",
    "num =76.51 #Num vale 76.51 y es de tipo flotante\n",
    "num = str(num) #Conversion de flotante (76.51) a una cadena\n",
    "print (num, type(num)) #Impresion del tipo de dato\n",
    "    "
   ]
  },
  {
   "cell_type": "code",
   "execution_count": null,
   "id": "719dca38-1c7f-4691-b5ae-8f8eb88bb292",
   "metadata": {},
   "outputs": [],
   "source": [
    "#Ejemplo 2 pasar de booleano a string\n",
    "\n",
    "valor_1 =5 #asignacion de 5 a valor1 \n",
    "valor_2=valor_1 #asignamos a valor 2 lo que tiene en valor1\n",
    "booleano=(valor_1==valor_2) #en la variable booleano asignamos el valor booleano que resulta de comparar valor1 con valor2\n",
    "booleano=str(booleano) #convertimos el valor booleano (True or False) como cadena\n",
    "print (booleano, type(booleano))"
   ]
  },
  {
   "cell_type": "code",
   "execution_count": null,
   "id": "8beb2951-c27e-4f6c-92ff-8a8c907e77f6",
   "metadata": {},
   "outputs": [],
   "source": [
    "#Ejemplo 3 pasar de booleano y luego a int\n",
    "\n",
    "juan= \"Mi caballo es blanco\" #Guardamos una cadena en juan\n",
    "jose= \"Mi caballo es azul\" #Guardamos una cadena en jose\n",
    "\n",
    "valor= (juan==jose) #Guardamos el valor de comparar juan con jose en la variable valor, siendo valor de tipo booleano\n",
    "valor= int(valor) #Cambiamos el tipo de dato de booleano a entero\n",
    "print (valor, type(valor)) #Imprimimos el tipo de dato"
   ]
  },
  {
   "cell_type": "code",
   "execution_count": null,
   "id": "3ac7f784-b481-471a-822b-56b14969c6ea",
   "metadata": {},
   "outputs": [],
   "source": []
  },
  {
   "cell_type": "code",
   "execution_count": null,
   "id": "516b69a3-1bed-47d7-996e-0595741d078d",
   "metadata": {},
   "outputs": [],
   "source": []
  }
 ],
 "metadata": {
  "kernelspec": {
   "display_name": "Python 3 (ipykernel)",
   "language": "python",
   "name": "python3"
  },
  "language_info": {
   "codemirror_mode": {
    "name": "ipython",
    "version": 3
   },
   "file_extension": ".py",
   "mimetype": "text/x-python",
   "name": "python",
   "nbconvert_exporter": "python",
   "pygments_lexer": "ipython3",
   "version": "3.12.3"
  }
 },
 "nbformat": 4,
 "nbformat_minor": 5
}
