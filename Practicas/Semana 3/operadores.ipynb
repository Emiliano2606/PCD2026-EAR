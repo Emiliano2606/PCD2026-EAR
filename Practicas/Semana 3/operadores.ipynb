{
 "cells": [
  {
   "cell_type": "markdown",
   "id": "d250f279-e83b-46f2-abb9-0634d865dd85",
   "metadata": {},
   "source": [
    "Crea un notebook llamado operadores.ipynb con 5 problemas resueltos de operadores matemáticos y lógicos.\n",
    "\n",
    "Ejemplo de problemas:\n",
    "\n",
    "Calcular el área de un triángulo. Verificar si un número es múltiplo de otro. Revisar si una persona es mayor de edad y si además tiene INE. Comprobar si un número está dentro de un rango. Resolver una expresión compuesta."
   ]
  },
  {
   "cell_type": "code",
   "execution_count": 1,
   "id": "dfd8a8fe-f31a-4663-95f2-be4ed7f6053a",
   "metadata": {},
   "outputs": [
    {
     "name": "stdin",
     "output_type": "stream",
     "text": [
      "Ingresa la base:  5\n",
      "Ingresa la altura:  6\n"
     ]
    },
    {
     "name": "stdout",
     "output_type": "stream",
     "text": [
      "El area del triangulo es: 15.0 u²\n"
     ]
    }
   ],
   "source": [
    "# Calculo de area de un triangulo\n",
    "base = float(input(\"Ingresa la base: \"))\n",
    "altura = float(input(\"Ingresa la altura: \"))\n",
    "\n",
    "area = (base * altura) / 2\n",
    "print(f\"El area del triangulo es: {area} u²\")"
   ]
  },
  {
   "cell_type": "code",
   "execution_count": 2,
   "id": "c82c45e8-1b52-4de6-a040-96f20fb5b0cc",
   "metadata": {},
   "outputs": [
    {
     "name": "stdin",
     "output_type": "stream",
     "text": [
      "Ingresa tu primer valor:  6\n",
      "Ingresa tu segundo valor:  42\n"
     ]
    },
    {
     "name": "stdout",
     "output_type": "stream",
     "text": [
      "Son multiplos\n"
     ]
    }
   ],
   "source": [
    "#Verificar si un numero es multiplo de otro\n",
    "valor1= int(input(\"Ingresa tu primer valor: \"))\n",
    "valor2= int(input(\"Ingresa tu segundo valor: \"))\n",
    "\n",
    "#Puede que el segundo valor sea menor al primer valor pero aun asi sean multiplos, por lo que debemos identificar cuale s mayor\n",
    "maximo=max(valor1,valor2)\n",
    "minimo=min(valor1,valor2)\n",
    "\n",
    "print(\"Son multiplos\") if maximo % minimo == 0 else print(\"no son multiplos\")\n"
   ]
  },
  {
   "cell_type": "code",
   "execution_count": 9,
   "id": "c22afe9f-a363-4c90-92a7-a6a025070a28",
   "metadata": {},
   "outputs": [
    {
     "name": "stdin",
     "output_type": "stream",
     "text": [
      "Ingresa tu edad 19\n",
      "Tienes INE?\n",
      "1)Si\n",
      "2)No\n",
      " 2\n"
     ]
    },
    {
     "name": "stdout",
     "output_type": "stream",
     "text": [
      "Eres mayor de edad pero no tienes INE, así que saca cita con el INE.\n"
     ]
    }
   ],
   "source": [
    "#Revisar si una persona es mayor de edad y si ademas tiene INE\n",
    "edad=int (input(\"Ingresa tu edad\"))\n",
    "ine= (input(\"Tienes INE?\\n1)Si\\n2)No\\n\"))\n",
    "\n",
    "if (ine.lower()==\"si\" or ine==1):\n",
    "    ine=1\n",
    "else:\n",
    "    ine=0\n",
    "\n",
    "if edad >= 18 and ine==1:\n",
    "    print(\"Eres mayor de edad y tienes INE.\")\n",
    "elif edad >= 18 and not ine==1:\n",
    "    print(\"Eres mayor de edad pero no tienes INE, así que saca cita con el INE.\")\n",
    "else:\n",
    "    print(\"Eres menor de edad.\")"
   ]
  },
  {
   "cell_type": "code",
   "execution_count": 6,
   "id": "04fbb8f7-ede0-4141-b436-3df7a0e9ad3d",
   "metadata": {},
   "outputs": [
    {
     "name": "stdin",
     "output_type": "stream",
     "text": [
      "Ingresa tu limite inferior:  1\n",
      "Ingresa tu limite superior:  100\n",
      "Ingresa tu valor:  57\n"
     ]
    },
    {
     "name": "stdout",
     "output_type": "stream",
     "text": [
      "El valor esta dentro del rango\n"
     ]
    }
   ],
   "source": [
    "#Comprobar si un numero esta dentro de un rango\n",
    "limInf=float (input(\"Ingresa tu limite inferior: \"))\n",
    "limSup=float (input(\"Ingresa tu limite superior: \"))\n",
    "valor= float (input(\"Ingresa tu valor: \"))\n",
    "\n",
    "if (limInf <= valor <=limSup):\n",
    "    print (\"El valor esta dentro del rango\")\n",
    "else:\n",
    "    print (\"El valor no esta dentro del rango\")"
   ]
  },
  {
   "cell_type": "code",
   "execution_count": null,
   "id": "e371eed1-d7a3-47d9-bfe2-a1bff3ae300e",
   "metadata": {},
   "outputs": [],
   "source": [
    "#Resolver una expresion compuesta\n",
    "expresion=str(input(\"Ingresa tu expresion usando solo suma (+), resta (-), multiplicacion (*) y division (/):\\n\"))\n",
    "resultado=eval(expresion) #eval toma la cadena de texto y la ejecuta como si fuera una linea de codigo\n",
    "\n",
    "print (f\"El resultado de tu expresion es {resultado}\")"
   ]
  }
 ],
 "metadata": {
  "kernelspec": {
   "display_name": "Python 3 (ipykernel)",
   "language": "python",
   "name": "python3"
  },
  "language_info": {
   "codemirror_mode": {
    "name": "ipython",
    "version": 3
   },
   "file_extension": ".py",
   "mimetype": "text/x-python",
   "name": "python",
   "nbconvert_exporter": "python",
   "pygments_lexer": "ipython3",
   "version": "3.12.3"
  }
 },
 "nbformat": 4,
 "nbformat_minor": 5
}
