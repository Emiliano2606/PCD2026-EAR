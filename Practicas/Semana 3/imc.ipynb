{
 "cells": [
  {
   "cell_type": "markdown",
   "id": "52efb10a-4bc1-4df1-b4db-1f911c1fb30f",
   "metadata": {},
   "source": [
    "El Índice de Masa Corporal (IMC) es una medida que relaciona el peso y la altura de una persona.\n",
    "\n",
    "La fórmula es:\n",
    " $$\n",
    "IMC = \\frac{peso}{altura^2}\n",
    "$$\n",
    "\n",
    "Peso se mide en kilogramos.\n",
    "Altura se mide en metros.\n",
    "El resultado permite clasificar el estado de peso."
   ]
  },
  {
   "cell_type": "markdown",
   "id": "5d988911-505a-4429-b541-2b648d8f9ddf",
   "metadata": {},
   "source": [
    "La formula en si relaciona el peso de una persona con cuanto mide. En si lo que se hace es crear un area con la altura, para asi saber nuestra superficie corporal, por asi decirlo mide cuanta masa hay en un area, siendo eso el IMC, que en si nos dice cuan pesado somos o cuanta masa tenemos en relacion con nuestra altura"
   ]
  },
  {
   "cell_type": "code",
   "execution_count": 1,
   "id": "29163711-17b4-4416-b426-7d4c1fab66d4",
   "metadata": {},
   "outputs": [
    {
     "name": "stdin",
     "output_type": "stream",
     "text": [
      "Ingresa tu peso en Kg:  65\n",
      "Ingresa tu altura en metros:  1.74\n"
     ]
    },
    {
     "name": "stdout",
     "output_type": "stream",
     "text": [
      "Tu IMC es: 21.47\n",
      "Clasificación: PESO NORMAL\n"
     ]
    }
   ],
   "source": [
    "# Calculo de IMC\n",
    "# formula IMC=peso/altura^2\n",
    "\n",
    "# ingresamos los datos \n",
    "peso = float(input(\"Ingresa tu peso en Kg: \"))\n",
    "altura = float(input(\"Ingresa tu altura en metros: \"))\n",
    "\n",
    "# ahora hacemos el calculo \n",
    "IMC = peso / (altura**2)\n",
    "\n",
    "# Se agregó formato para mostrar solo 2 decimales, es más legible\n",
    "print(f\"Tu IMC es: {IMC:.2f}\")\n",
    "\n",
    "# --- Se corrigió la indentación y se limpió el formato de impresión ---\n",
    "if (IMC < 18.5):\n",
    "    print(\"Clasificación: PESO BAJO\")\n",
    "elif (IMC <= 24.99):\n",
    "    print(\"Clasificación: PESO NORMAL\")\n",
    "elif (IMC <= 29.99):\n",
    "    print(\"Clasificación: SOBREPESO\")\n",
    "elif (IMC <= 34.99):\n",
    "    print(\"Clasificación: OBESIDAD LEVE\")\n",
    "elif (IMC <= 39.99):\n",
    "    print(\"Clasificación: OBESIDAD MEDIA\")\n",
    "else:  # Si es mayor o igual a 40\n",
    "    print(\"Clasificación: OBESIDAD MÓRBIDA\")\n",
    "\n",
    "\n"
   ]
  },
  {
   "cell_type": "code",
   "execution_count": 2,
   "id": "1a17a0e5-815d-450d-926b-ec02911ae81a",
   "metadata": {},
   "outputs": [
    {
     "name": "stdout",
     "output_type": "stream",
     "text": [
      "Persona 1) Tu IMC es: 25.54\n",
      "       Clasificación: SOBREPESO \n",
      "\n",
      "Persona 2) Tu IMC es: 44.92\n",
      "       Clasificación: OBESIDAD MÓRBIDA\n",
      "\n",
      "Persona 3) Tu IMC es: 21.43\n",
      "       Clasificación: PESO NORMAL\n",
      "\n"
     ]
    }
   ],
   "source": [
    "#ahora hacemos el calculo con valores prestablecido\n",
    "peso = [59, 132.9, 64.89]\n",
    "altura = [1.52, 1.72, 1.74]\n",
    "\n",
    "for i in range(3):\n",
    "    IMC = peso[i] / (altura[i] ** 2)\n",
    "    print(f\"Persona {i+1}) Tu IMC es: {IMC:.2f}\")\n",
    "\n",
    "    # Este bloque ahora está correctamente indentado dentro del bucle 'for'\n",
    "    if (IMC < 18.5):\n",
    "        print(\"       Clasificación: PESO BAJO\\n\")\n",
    "    elif (IMC <= 24.99):\n",
    "        print(\"       Clasificación: PESO NORMAL\\n\")\n",
    "    elif (IMC <= 29.99):\n",
    "        print(\"       Clasificación: SOBREPESO \\n\")\n",
    "    elif (IMC <= 34.99):\n",
    "        print(\"       Clasificación: OBESIDAD LEVE\\n\")\n",
    "    elif (IMC <= 39.99):\n",
    "        print(\"       Clasificación: OBESIDAD MEDIA\\n\")\n",
    "    else:  # Si es mayor o igual a 40\n",
    "        print(\"       Clasificación: OBESIDAD MÓRBIDA\\n\")\n",
    "    "
   ]
  },
  {
   "cell_type": "code",
   "execution_count": null,
   "id": "2c4deb69-c172-471e-a95c-14e488ce6d39",
   "metadata": {},
   "outputs": [],
   "source": []
  }
 ],
 "metadata": {
  "kernelspec": {
   "display_name": "Python 3 (ipykernel)",
   "language": "python",
   "name": "python3"
  },
  "language_info": {
   "codemirror_mode": {
    "name": "ipython",
    "version": 3
   },
   "file_extension": ".py",
   "mimetype": "text/x-python",
   "name": "python",
   "nbconvert_exporter": "python",
   "pygments_lexer": "ipython3",
   "version": "3.12.3"
  }
 },
 "nbformat": 4,
 "nbformat_minor": 5
}
