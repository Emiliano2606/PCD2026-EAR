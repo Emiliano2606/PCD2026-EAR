{
 "cells": [
  {
   "cell_type": "markdown",
   "id": "b150fcc5-7a2f-4bd0-a98c-4cadf8442ac8",
   "metadata": {},
   "source": [
    "Crear un notebook llamado **condicionales.ipynb** con al menos **3 problemas resueltos** usando `if/elif/else`.\n"
   ]
  },
  {
   "cell_type": "code",
   "execution_count": 14,
   "id": "5ad8b811-0827-45ff-a2fd-ef3ae1409988",
   "metadata": {},
   "outputs": [
    {
     "name": "stdin",
     "output_type": "stream",
     "text": [
      "ngresa tu masa en kg:  34\n",
      "En donde quieres saber tu peso:\n",
      "1) Tierra\n",
      "2) Marte\n",
      "3) Jupiter\n",
      "4) Sol\n",
      "Opcion: 3\n"
     ]
    },
    {
     "name": "stdout",
     "output_type": "stream",
     "text": [
      "Tu peso es 842.86 Newtons\n"
     ]
    }
   ],
   "source": [
    "#Problema 1 con if\n",
    "#valores de la gravedad \n",
    "CONS_TIERRA = 9.807\n",
    "CONS_MARTE = 3.71\n",
    "CONS_JUPITER = 24.79\n",
    "CONS_SOL = 274\n",
    "#Ingresar tu masa\n",
    "peso = float(input(\"ngresa tu masa en kg: \"))\n",
    "opcion = str(input(\"En donde quieres saber tu peso:\\n1) Tierra\\n2) Marte\\n3) Jupiter\\n4) Sol\\nOpcion:\"))\n",
    "\n",
    "if (opcion == \"1\" or opcion.lower() == \"tierra\"):  \n",
    "    resultado = peso * CONS_TIERRA\n",
    "    print (f\"Tu peso es {resultado:.2f} Newtons\")\n",
    "elif (opcion == \"2\" or opcion.lower() == \"marte\"):  \n",
    "    resultado = peso * CONS_MARTE\n",
    "    print (f\"Tu peso es {resultado:.2f} Newtons\")\n",
    "elif (opcion == \"3\" or opcion.lower() == \"jupiter\"):  \n",
    "    resultado = peso * CONS_JUPITER\n",
    "    print (f\"Tu peso es {resultado:.2f} Newtons\")\n",
    "elif (opcion == \"4\" or opcion.lower() == \"sol\"):  \n",
    "    resultado = peso * CONS_SOL\n",
    "    print (f\"Tu peso es {resultado:.2f} Newtons\")\n",
    "else:\n",
    "    print (\"Tu opcion no es valida\\n\")\n",
    "    \n",
    "    \n"
   ]
  },
  {
   "cell_type": "code",
   "execution_count": 24,
   "id": "53173f04-2dc2-49ca-ab13-faf3e4f812fb",
   "metadata": {},
   "outputs": [
    {
     "name": "stdin",
     "output_type": "stream",
     "text": [
      "Ingresa en donde se encuentra la molestia:\n",
      "1) Boca\n",
      "2) Estomago\n",
      "3) Espalda\n",
      "4) Corazon\n",
      "5) Pulmones\n",
      " 5\n"
     ]
    },
    {
     "name": "stdout",
     "output_type": "stream",
     "text": [
      "Debes visitar a un neumologo\n"
     ]
    }
   ],
   "source": [
    "#Problema 2\n",
    "#Problema del doctor\n",
    "padecimiento = str(input(\"Ingresa en donde se encuentra la molestia:\\n1) Boca\\n2) Estomago\\n3) Espalda\\n4) Corazon\\n5) Pulmones\\n\"))\n",
    "\n",
    "if (padecimiento == \"1\" or padecimiento.lower() == \"boca\"):  \n",
    "    print (\"Debes visitar a un dentista\")\n",
    "    \n",
    "elif (padecimiento == \"2\" or padecimiento.lower() == \"estomago\"):  \n",
    "    print (\"Debes visitar a un gastroenterologo\")\n",
    "    \n",
    "elif (padecimiento == \"3\" or padecimiento.lower() == \"espalda\"):  \n",
    "    print (\"Debes visitar a un ortopedista\")\n",
    "    \n",
    "elif (padecimiento == \"4\" or padecimiento.lower() == \"corazon\"):  \n",
    "    print (\"Debes visitar a un cardiologo\")\n",
    "\n",
    "elif (padecimiento == \"5\" or padecimiento.lower() == \"pulmones\"):\n",
    "    print (\"Debes visitar a un neumologo\")\n",
    "else:\n",
    "    print (\"Ve a un medico general\\n\")\n",
    "    "
   ]
  },
  {
   "cell_type": "code",
   "execution_count": 27,
   "id": "b74e8919-944a-4960-8111-b6fc6ae0ec81",
   "metadata": {},
   "outputs": [
    {
     "name": "stdin",
     "output_type": "stream",
     "text": [
      "Ingresa tu calificacion en escala de 1-100 para saber cuanto sacarias en EUA 89\n"
     ]
    },
    {
     "name": "stdout",
     "output_type": "stream",
     "text": [
      "Sacaste una B+\n"
     ]
    }
   ],
   "source": [
    "#Probelma 3\n",
    "calificacion = float (input(\"Ingresa tu calificacion en escala de 1-100 para saber cuanto sacarias en EUA\"))\n",
    "\n",
    "if (97 <= calificacion ):\n",
    "    print (\"Sacaste una A+\")\n",
    "    \n",
    "elif (93 <= calificacion <= 96 ):\n",
    "    print (\"Sacaste una A\")\n",
    "    \n",
    "elif (90 <= calificacion <= 92 ):\n",
    "    print (\"Sacaste una A-\")\n",
    "    \n",
    "elif (87 <= calificacion <= 89 ):\n",
    "    print (\"Sacaste una B+\")\n",
    "    \n",
    "elif (83 <= calificacion <= 86 ):\n",
    "    print (\"Sacaste una B\")\n",
    "\n",
    "elif (77 <= calificacion <= 79 ):\n",
    "    print (\"Sacaste una C+\")\n",
    "\n",
    "elif (73 <= calificacion <= 76 ):\n",
    "    print (\"Sacaste una C\")\n",
    "\n",
    "elif (70 <= calificacion <= 72 ):\n",
    "    print (\"Sacaste una A\")\n",
    "    \n",
    "elif (67 <= calificacion <= 69 ):\n",
    "    print (\"Sacaste una D+\")\n",
    "\n",
    "elif (63 <= calificacion <= 66 ):\n",
    "    print (\"Sacaste una D\")\n",
    "\n",
    "elif (60 <= calificacion <= 62 ):\n",
    "    print (\"Sacaste una A\")\n",
    "else:\n",
    "    print (\"Estas reprobado\")"
   ]
  },
  {
   "cell_type": "code",
   "execution_count": null,
   "id": "25d4663c-3aa6-49fb-8efa-12629583a64f",
   "metadata": {},
   "outputs": [],
   "source": []
  }
 ],
 "metadata": {
  "kernelspec": {
   "display_name": "Python 3 (ipykernel)",
   "language": "python",
   "name": "python3"
  },
  "language_info": {
   "codemirror_mode": {
    "name": "ipython",
    "version": 3
   },
   "file_extension": ".py",
   "mimetype": "text/x-python",
   "name": "python",
   "nbconvert_exporter": "python",
   "pygments_lexer": "ipython3",
   "version": "3.12.3"
  }
 },
 "nbformat": 4,
 "nbformat_minor": 5
}
