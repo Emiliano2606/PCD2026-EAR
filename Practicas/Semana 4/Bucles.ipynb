{
 "cells": [
  {
   "cell_type": "markdown",
   "id": "740c4f79-570c-49e4-9e6f-83726c837f74",
   "metadata": {},
   "source": [
    "Crear un notebook llamado bucles.ipynb con al menos 5 ejercicios resueltos usando for y while.\n",
    "Ejemplos de ejercicios posibles:\n",
    "\n",
    "Calcular la sumatoria de los primeros n números.\n",
    "Calcular el factorial de un número.\n",
    "Contar cuántas vocales hay en una palabra.\n",
    "Generar una lista de cuadrados de los primeros 10 enteros.\n",
    "Simular un cajero automático con intentos limitados"
   ]
  },
  {
   "cell_type": "code",
   "execution_count": null,
   "id": "256c3a73-60d6-4df7-97e9-bd6534d600c8",
   "metadata": {},
   "outputs": [],
   "source": [
    "#Calcular sumatoria de n numeros\n",
    "n = int (input (\"Ingresa un numero entero para calcular la sumatoria hasta ese numero: \"))\n",
    "valor = 0\n",
    "\n",
    "for i in range (n + 1):\n",
    "    valor = i + valor\n",
    "\n",
    "print (f\"El resultado de la sumatoria continua de {n} es: {valor}\")    "
   ]
  },
  {
   "cell_type": "code",
   "execution_count": null,
   "id": "1f4023f7-8780-48e0-b565-0b3fbbfafd5d",
   "metadata": {},
   "outputs": [],
   "source": [
    "#Calcular el factorial de un numero\n",
    "\n",
    "n = int(input(\"Ingresa un numero entero para calcular su factorial: \"))\n",
    "valor = 1\n",
    "i = 1\n",
    "\n",
    "# CORRECCIÓN: El bucle se ejecuta MIENTRAS i sea MENOR O IGUAL a n\n",
    "while (i <= n):\n",
    "    valor *= i\n",
    "    # CORRECCIÓN: Incrementamos i en 1 en cada ciclo\n",
    "    i += 1\n",
    "\n",
    "print(f\"El resultado del factorial de {n} es: {valor}\")"
   ]
  },
  {
   "cell_type": "code",
   "execution_count": null,
   "id": "425ee3bf-0fda-49ba-8db1-779d9ec8cafc",
   "metadata": {},
   "outputs": [],
   "source": [
    "#Contar cuantas vocales hay en una palabra\n",
    "\n",
    "frase = str (input (\"Ingresa una oracion para contar sus vocales:\\n\"))\n",
    "frase= frase.replace(\" \",\"\").lower()\n",
    "longitud = len(frase)\n",
    "cont_Vocal= 0\n",
    "i = 0\n",
    "while (i<longitud):\n",
    "    if (frase[i] in \"aeiou\"):\n",
    "        cont_Vocal += 1\n",
    "    i += 1\n",
    "    \n",
    "print (f\"Tu oracion tiene {cont_Vocal} vocales\")\n",
    "\n"
   ]
  },
  {
   "cell_type": "code",
   "execution_count": null,
   "id": "3445ddba-2090-4f4b-b155-33527ea31540",
   "metadata": {},
   "outputs": [],
   "source": [
    "#Generar una lista de los cuadrado de los primero 10 enteros\n",
    "n = int(input(\"Ingresa un numero entero sus multiplos: \"))\n",
    "\n",
    "for i in range (11):\n",
    "    resultado = i * n \n",
    "    print (f\"{n}X{i} = \\t{resultado}\")\n"
   ]
  },
  {
   "cell_type": "code",
   "execution_count": 5,
   "id": "69e2ae63-5244-4e86-9afb-7296b48329bb",
   "metadata": {},
   "outputs": [
    {
     "name": "stdin",
     "output_type": "stream",
     "text": [
      "Ingresa tu nombre ert\n",
      "Crea tu pin de 4 digitos 2\n"
     ]
    },
    {
     "name": "stdout",
     "output_type": "stream",
     "text": [
      "Ingresa un pin valido de 4 digitos\n",
      "\n"
     ]
    },
    {
     "name": "stdin",
     "output_type": "stream",
     "text": [
      "Crea tu pin de 4 digitos 1234\n"
     ]
    },
    {
     "name": "stdout",
     "output_type": "stream",
     "text": [
      "\n",
      "Hola ert, ingresa tu pin para acceder a tu cuenta\n"
     ]
    },
    {
     "name": "stdin",
     "output_type": "stream",
     "text": [
      "\n",
      "Ingresa tu contaseña 345\n"
     ]
    },
    {
     "name": "stdout",
     "output_type": "stream",
     "text": [
      "Contraseña incorrecta\n",
      "Te quedan 2 intentos\n"
     ]
    },
    {
     "name": "stdin",
     "output_type": "stream",
     "text": [
      "\n",
      "Ingresa tu contaseña 3\n"
     ]
    },
    {
     "name": "stdout",
     "output_type": "stream",
     "text": [
      "Contraseña incorrecta\n",
      "Te quedan 1 intentos\n"
     ]
    },
    {
     "name": "stdin",
     "output_type": "stream",
     "text": [
      "\n",
      "Ingresa tu contaseña 2\n"
     ]
    },
    {
     "name": "stdout",
     "output_type": "stream",
     "text": [
      "Contraseña incorrecta\n",
      "Te quedan 0 intentos\n"
     ]
    }
   ],
   "source": [
    "#Simular un cajero automatico con intentos limitados, verificar la contraseña\n",
    "nombre = str (input (\"Ingresa tu nombre\"))\n",
    "control = 0\n",
    "\n",
    "while (control == 0):\n",
    "    contraseña = int (input (\"Crea tu pin de 4 digitos\"))\n",
    "    valor = len(str(contraseña))\n",
    "    if  valor == 4:\n",
    "        control = 1\n",
    "    else:\n",
    "        print (\"Ingresa un pin valido de 4 digitos\\n\")\n",
    "        control = 0\n",
    "        \n",
    "print (f\"\\nHola {nombre}, ingresa tu pin para acceder a tu cuenta\")\n",
    "\n",
    "i=1\n",
    "while (i<=3):\n",
    "    verifica = int (input (\"\\nIngresa tu contaseña\"))\n",
    "    if (verifica==contraseña):\n",
    "        print (\"Tu pin es correcto\")\n",
    "        break\n",
    "    else:\n",
    "        print (f\"Contraseña incorrecta\\nTe quedan {3-i} intentos\" )\n",
    "        i+=1\n",
    "        continue\n",
    "    \n"
   ]
  },
  {
   "cell_type": "code",
   "execution_count": null,
   "id": "b9177c6a-f4c9-4a32-b84d-344bff91924d",
   "metadata": {},
   "outputs": [],
   "source": []
  }
 ],
 "metadata": {
  "kernelspec": {
   "display_name": "Python 3 (ipykernel)",
   "language": "python",
   "name": "python3"
  },
  "language_info": {
   "codemirror_mode": {
    "name": "ipython",
    "version": 3
   },
   "file_extension": ".py",
   "mimetype": "text/x-python",
   "name": "python",
   "nbconvert_exporter": "python",
   "pygments_lexer": "ipython3",
   "version": "3.12.3"
  }
 },
 "nbformat": 4,
 "nbformat_minor": 5
}
