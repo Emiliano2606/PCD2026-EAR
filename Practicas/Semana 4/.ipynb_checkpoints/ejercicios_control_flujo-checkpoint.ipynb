{
 "cells": [
  {
   "cell_type": "markdown",
   "id": "ad1a0cf1-4d32-4d3a-9738-ad8f403a8d55",
   "metadata": {},
   "source": [
    "Crea un notebook llamado ejercicios_control_flujo.ipynb con al menos 3 ejercicios propios que combinen bucles y condicionales. Ideas:\n",
    "\n",
    "Validador de contraseña con métricas (longitud mínima, contiene dígitos/letras).\n",
    "Generador de secuencia de Fibonacci hasta n y conteo de pares/impares.\n",
    "Juego de piedra, papel o tijera contra la computadora con marcador al mejor de 3. Incluye: descripción del problema, solución en código, pruebas de ejemplo y una breve reflexión sobre qué parte te costó más y cómo la resolviste"
   ]
  },
  {
   "cell_type": "code",
   "execution_count": 1,
   "id": "ca1ccd24-ac1a-44fc-9ea4-83b66d1f2683",
   "metadata": {},
   "outputs": [
    {
     "name": "stdout",
     "output_type": "stream",
     "text": [
      "Se ha generado un numero entero aleatorio de 1-100\n"
     ]
    },
    {
     "name": "stdin",
     "output_type": "stream",
     "text": [
      "\n",
      "Ingresa tu numero:  50\n"
     ]
    },
    {
     "name": "stdout",
     "output_type": "stream",
     "text": [
      "El valor random es mas grande\n",
      "Numero de iteraciones: 1\n"
     ]
    },
    {
     "name": "stdin",
     "output_type": "stream",
     "text": [
      "\n",
      "Ingresa tu numero:  75\n"
     ]
    },
    {
     "name": "stdout",
     "output_type": "stream",
     "text": [
      "El valor random es mas grande\n",
      "Numero de iteraciones: 2\n"
     ]
    },
    {
     "name": "stdin",
     "output_type": "stream",
     "text": [
      "\n",
      "Ingresa tu numero:  90\n"
     ]
    },
    {
     "name": "stdout",
     "output_type": "stream",
     "text": [
      "El valor random es menor\n",
      "\n",
      "Numero de iteraciones: 3\n"
     ]
    },
    {
     "name": "stdin",
     "output_type": "stream",
     "text": [
      "\n",
      "Ingresa tu numero:  80\n"
     ]
    },
    {
     "name": "stdout",
     "output_type": "stream",
     "text": [
      "El valor random es menor\n",
      "\n",
      "Numero de iteraciones: 4\n"
     ]
    },
    {
     "name": "stdin",
     "output_type": "stream",
     "text": [
      "\n",
      "Ingresa tu numero:  77\n"
     ]
    },
    {
     "name": "stdout",
     "output_type": "stream",
     "text": [
      "El valor random es mas grande\n",
      "Numero de iteraciones: 5\n"
     ]
    },
    {
     "name": "stdin",
     "output_type": "stream",
     "text": [
      "\n",
      "Ingresa tu numero:  78\n"
     ]
    },
    {
     "name": "stdout",
     "output_type": "stream",
     "text": [
      "Tu valor es el correcto!!\n",
      "Numero de iteraciones: 5\n"
     ]
    }
   ],
   "source": [
    "#Problema 1 Adivina el numero en el menor numero de iteraciones\n",
    "from random import randint\n",
    "print (\"Se ha generado un numero entero aleatorio de 1-100\")\n",
    "random = int(randint (1,100))\n",
    "\n",
    "i=0\n",
    "contador=0\n",
    "while  (i!=1):\n",
    "    mi_numero = int (input (\"\\nIngresa tu numero: \"))\n",
    "\n",
    "    if (mi_numero<random):\n",
    "        contador += 1\n",
    "        print (f\"El valor random es mas grande\\nNumero de iteraciones: {contador}\")\n",
    "        continue\n",
    "        \n",
    "    elif (mi_numero>random):\n",
    "        contador +=1\n",
    "        print (f\"El valor random es menor\\n\\nNumero de iteraciones: {contador}\")\n",
    "        continue\n",
    "\n",
    "    elif (mi_numero==random):\n",
    "        print (f\"Tu valor es el correcto!!\\nNumero de iteraciones: {contador}\")\n",
    "        break\n",
    "        "
   ]
  },
  {
   "cell_type": "code",
   "execution_count": null,
   "id": "a0f03405-cc63-41ed-8a00-abccfe12c4fc",
   "metadata": {},
   "outputs": [
    {
     "name": "stdout",
     "output_type": "stream",
     "text": [
      "--- Piedra, Papel o Tijera ---\n"
     ]
    },
    {
     "name": "stdin",
     "output_type": "stream",
     "text": [
      "\n",
      "Escoge entre piedra, papel o tijera:  piedra\n"
     ]
    },
    {
     "name": "stdout",
     "output_type": "stream",
     "text": [
      "La computadora eligió: tijera\n",
      "Punto para la persona\n",
      "\n",
      "Persona: 1 | Computadora: 0\n"
     ]
    }
   ],
   "source": [
    "# Problema 2: Piedra, Papel o Tijera\n",
    "from random import choice\n",
    "\n",
    "# Lista de opciones de la computadora\n",
    "lista = [\"piedra\", \"papel\", \"tijera\"]\n",
    "\n",
    "cont_comp = 0\n",
    "cont_persona = 0\n",
    "\n",
    "print(\"--- Piedra, Papel o Tijera ---\")\n",
    "\n",
    "while (cont_persona < 3 and cont_comp < 3):\n",
    "    mi_eleccion = input(\"\\nEscoge entre piedra, papel o tijera: \").lower()\n",
    "\n",
    "    if mi_eleccion not in lista:\n",
    "        print(\"Opción no válida. Inténtalo de nuevo.\")\n",
    "        continue  \n",
    "\n",
    "    comp_eleccion = choice(lista)\n",
    "    print(f\"La computadora eligió: {comp_eleccion}\")\n",
    "\n",
    "    # Caso 1: Empate\n",
    "    if (mi_eleccion == comp_eleccion):\n",
    "        print(\"¡Es un empate!\")\n",
    "\n",
    "    # Caso 2: El jugador gana\n",
    "    elif ((mi_eleccion == \"piedra\" and comp_eleccion == \"tijera\") or \n",
    "         (mi_eleccion == \"tijera\" and comp_eleccion == \"papel\") or \n",
    "         (mi_eleccion == \"papel\" and comp_eleccion == \"piedra\")):\n",
    "        cont_persona += 1\n",
    "        print(\"Punto para la persona\")\n",
    "\n",
    "    else:#Ultimo caso en el que la computadora gana\n",
    "        cont_comp += 1\n",
    "        print(\"Punto para la computadora\")\n",
    "\n",
    "    # Se imprime el marcador\n",
    "    print(f\"\\nPersona: {cont_persona} | Computadora: {cont_comp}\")\n",
    "\n",
    "\n",
    "# --- Fin del juego ---\n",
    "print(\"\\n--- Juego Terminado ---\")\n",
    "if cont_persona > cont_comp:\n",
    "    print(\"Ganaste :)\")\n",
    "else:\n",
    "    print(\"La computadora gana\")\n",
    "\n",
    "\n"
   ]
  },
  {
   "cell_type": "code",
   "execution_count": 3,
   "id": "3495af1f-8fa1-40fa-9751-9c7df953da8d",
   "metadata": {},
   "outputs": [
    {
     "name": "stdin",
     "output_type": "stream",
     "text": [
      "\n",
      "Escoge cara o cruz:  cruz\n"
     ]
    },
    {
     "name": "stdout",
     "output_type": "stream",
     "text": [
      "Salio: cruz\n",
      "Punto para la persona\n",
      "\n",
      "Persona: 1 | Computadora: 0\n"
     ]
    },
    {
     "name": "stdin",
     "output_type": "stream",
     "text": [
      "\n",
      "Escoge cara o cruz:  cruz\n"
     ]
    },
    {
     "name": "stdout",
     "output_type": "stream",
     "text": [
      "Salio: cruz\n",
      "Punto para la persona\n",
      "\n",
      "Persona: 2 | Computadora: 0\n"
     ]
    },
    {
     "name": "stdin",
     "output_type": "stream",
     "text": [
      "\n",
      "Escoge cara o cruz:  cruz\n"
     ]
    },
    {
     "name": "stdout",
     "output_type": "stream",
     "text": [
      "Salio: cara\n",
      "Punto para la computadora\n",
      "\n",
      "Persona: 2 | Computadora: 1\n"
     ]
    },
    {
     "name": "stdin",
     "output_type": "stream",
     "text": [
      "\n",
      "Escoge cara o cruz:  cruz\n"
     ]
    },
    {
     "name": "stdout",
     "output_type": "stream",
     "text": [
      "Salio: cara\n",
      "Punto para la computadora\n",
      "\n",
      "Persona: 2 | Computadora: 2\n"
     ]
    },
    {
     "name": "stdin",
     "output_type": "stream",
     "text": [
      "\n",
      "Escoge cara o cruz:  cara\n"
     ]
    },
    {
     "name": "stdout",
     "output_type": "stream",
     "text": [
      "Salio: cruz\n",
      "Punto para la computadora\n",
      "\n",
      "Persona: 2 | Computadora: 3\n",
      "\n",
      "--- Juego Terminado ---\n",
      "La computadora gana\n"
     ]
    }
   ],
   "source": [
    "from random import choice\n",
    "\n",
    "lista = [\"cara\", \"cruz\"]\n",
    "\n",
    "cont_comp = 0\n",
    "cont_persona = 0\n",
    "\n",
    "while (cont_comp < 3 and cont_persona < 3):\n",
    "    mi_eleccion = str(input(\"\\nEscoge cara o cruz: \")).lower()\n",
    "\n",
    "    if mi_eleccion not in lista:\n",
    "        print(\"Opción no válida. Inténtalo de nuevo.\")\n",
    "        continue\n",
    "\n",
    "    comp_eleccion = choice(lista)\n",
    "    print(f\"Salio: {comp_eleccion}\")\n",
    "    \n",
    "    if ((mi_eleccion == \"cara\" and comp_eleccion == \"cara\") or (mi_eleccion == \"cruz\" and comp_eleccion == \"cruz\")):\n",
    "        cont_persona += 1\n",
    "        print(\"Punto para la persona\")\n",
    "\n",
    "    else:\n",
    "        cont_comp += 1\n",
    "        print(\"Punto para la computadora\")\n",
    "        \n",
    "    print(f\"\\nPersona: {cont_persona} | Computadora: {cont_comp}\")\n",
    "    \n",
    "\n",
    "# --- Fin del juego ---\n",
    "print(\"\\n--- Juego Terminado ---\")\n",
    "if cont_persona > cont_comp:\n",
    "    print(\"Ganaste :)\")\n",
    "else:\n",
    "    print(\"La computadora gana\")\n",
    "\n",
    "\n"
   ]
  },
  {
   "cell_type": "code",
   "execution_count": null,
   "id": "f20ebba5-6273-4152-9c4b-4fdf377ca2f1",
   "metadata": {},
   "outputs": [],
   "source": []
  },
  {
   "cell_type": "code",
   "execution_count": null,
   "id": "9c543fa9-725f-4f06-acab-6030dce3bfd5",
   "metadata": {},
   "outputs": [],
   "source": []
  }
 ],
 "metadata": {
  "kernelspec": {
   "display_name": "Python 3 (ipykernel)",
   "language": "python",
   "name": "python3"
  },
  "language_info": {
   "codemirror_mode": {
    "name": "ipython",
    "version": 3
   },
   "file_extension": ".py",
   "mimetype": "text/x-python",
   "name": "python",
   "nbconvert_exporter": "python",
   "pygments_lexer": "ipython3",
   "version": "3.12.3"
  }
 },
 "nbformat": 4,
 "nbformat_minor": 5
}
