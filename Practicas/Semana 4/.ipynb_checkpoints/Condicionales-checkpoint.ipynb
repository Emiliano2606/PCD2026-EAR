{
 "cells": [
  {
   "cell_type": "markdown",
   "id": "b150fcc5-7a2f-4bd0-a98c-4cadf8442ac8",
   "metadata": {},
   "source": [
    "Crear un notebook llamado **condicionales.ipynb** con al menos **3 problemas resueltos** usando `if/elif/else`.\n"
   ]
  },
  {
   "cell_type": "code",
   "execution_count": 9,
   "id": "5ad8b811-0827-45ff-a2fd-ef3ae1409988",
   "metadata": {},
   "outputs": [
    {
     "name": "stdin",
     "output_type": "stream",
     "text": [
      "ngresa tu masa en kg:  54\n",
      "En donde quieres saber tu peso:\n",
      "1) Tierra\n",
      "2) Marte\n",
      "3) Jupiter\n",
      "4) Sol\n",
      "Opcion: 1\n"
     ]
    },
    {
     "name": "stdout",
     "output_type": "stream",
     "text": [
      "Tu peso es 627.65 Newtons\n"
     ]
    }
   ],
   "source": [
    "#Problema 1 con if\n",
    "#valores de la gravedad \n",
    "CONS_TIERRA = 9.807\n",
    "CONS_MARTE = 3.71\n",
    "CONS_JUPITER = 24.79\n",
    "CONS_SOL = 274\n",
    "#Ingresar tu masa\n",
    "peso = float(input(\"ngresa tu masa en kg: \"))\n",
    "opcion = str(input(\"En donde quieres saber tu peso:\\n1) Tierra\\n2) Marte\\n3) Jupiter\\n4) Sol\\nOpcion:\"))\n",
    "\n",
    "if (opcion == \"1\" or opcion.lower() == \"tierra\"):  \n",
    "    resultado = peso * CONS_TIERRA\n",
    "    print (f\"Tu peso es {resultado:.2f} Newtons\")\n",
    "else if (opcion == \"2\" or opcion.lower() == \"marte\"):  \n",
    "    resultado = peso * CONS_MARTE\n",
    "    print (f\"Tu peso es {resultado:.2f} Newtons\")\n",
    "else if (opcion == \"3\" or opcion.lower() == \"jupiter\"):  \n",
    "    resultado = peso * CONS_JUPITER\n",
    "    print (f\"Tu peso es {resultado:.2f} Newtons\")\n",
    "else if (opcion == \"3\" or opcion.lower() == \"sol\"):  \n",
    "    resultado = peso * CONS_SOL\n",
    "    print (f\"Tu peso es {resultado:.2f} Newtons\")\n",
    "else\n",
    "    print (\"Tu opcion no es valida\\n\")\n",
    "    \n",
    "    \n"
   ]
  },
  {
   "cell_type": "code",
   "execution_count": null,
   "id": "53173f04-2dc2-49ca-ab13-faf3e4f812fb",
   "metadata": {},
   "outputs": [],
   "source": []
  }
 ],
 "metadata": {
  "kernelspec": {
   "display_name": "Python 3 (ipykernel)",
   "language": "python",
   "name": "python3"
  },
  "language_info": {
   "codemirror_mode": {
    "name": "ipython",
    "version": 3
   },
   "file_extension": ".py",
   "mimetype": "text/x-python",
   "name": "python",
   "nbconvert_exporter": "python",
   "pygments_lexer": "ipython3",
   "version": "3.12.3"
  }
 },
 "nbformat": 4,
 "nbformat_minor": 5
}
