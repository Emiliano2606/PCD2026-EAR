{
 "cells": [
  {
   "cell_type": "markdown",
   "id": "d6758cc0-f7a3-49e7-8f84-32cdda5611b1",
   "metadata": {},
   "source": [
    "📌 Tarea¶\n",
    "Crear un notebook llamado listas_tuplas.ipynb con al menos 5 ejercicios adicionales usando listas y tuplas.\n",
    "\n",
    "Ejemplos posibles:\n",
    "\n",
    "Encontrar el número mayor en una lista.\n",
    "Contar cuántas veces aparece un nombre en una lista.\n",
    "Convertir una lista en tupla y viceversa.\n",
    "Crear una lista de listas (matriz) y acceder a un elemento.\n",
    "Verificar si un elemento está contenido en una tupla.\n",
    "Reto adicional: genera solo las longitudes de las palabras que tengan más de 6 letras, del ejercicio 5 utilizando list comprehension."
   ]
  },
  {
   "cell_type": "markdown",
   "id": "8f399177-98df-40b3-ad0f-cc6c5f66231f",
   "metadata": {},
   "source": [
    "***Ejercicios con Listas***"
   ]
  },
  {
   "cell_type": "code",
   "execution_count": 1,
   "id": "ed180295-c3b2-4428-a1af-7621ef10e5d1",
   "metadata": {},
   "outputs": [
    {
     "name": "stdout",
     "output_type": "stream",
     "text": [
      "La lista es: \n",
      "[1, 5, 19, 24, 27, 31, 34, 53, 60, 62, 67, 75, 75, 78, 79, 80, 90, 93, 96, 100]\n",
      "\n",
      "Y su elemento mayor es 100\n",
      "\n"
     ]
    }
   ],
   "source": [
    "#Ejercicio 1, Encontrar el elemento mayor de una lista\n",
    "from random import randint\n",
    "lista = []\n",
    "for i in range (20):\n",
    "    lista.append(randint (1,100))\n",
    "lista.sort()\n",
    "elem_mayor = lista[-1]\n",
    "print (f\"La lista es: \\n{lista}\\n\\nY su elemento mayor es {elem_mayor}\\n\")\n"
   ]
  },
  {
   "cell_type": "code",
   "execution_count": 2,
   "id": "963666c9-624d-4d92-8be3-10c1f8330d0a",
   "metadata": {},
   "outputs": [
    {
     "name": "stdout",
     "output_type": "stream",
     "text": [
      "[1, 2, 3, 4, 5, 6, 7, 8, 9, 10]\n"
     ]
    }
   ],
   "source": [
    "#Ejercicio 2; Unir dos listas diferentes\n",
    "lista1 = [1,2,3,4,5]\n",
    "lista2 = [6,7,8,9,10]\n",
    "lista1 = lista1 + lista2\n",
    "\n",
    "print (lista1)"
   ]
  },
  {
   "cell_type": "code",
   "execution_count": 3,
   "id": "eb25d6ac-6f78-4826-8920-32626a9b9dc7",
   "metadata": {},
   "outputs": [
    {
     "name": "stdout",
     "output_type": "stream",
     "text": [
      "Lista original:\n",
      "[4, 12, 16, 19, 31, 35, 36, 49, 50, 56, 57, 67, 72, 78, 81, 86, 89, 89, 91, 93]\n",
      "\n",
      "Lista par:\n",
      "[4, 12, 16, 36, 50, 56, 72, 78, 86]\n"
     ]
    }
   ],
   "source": [
    "#Ejercicio 3, Eliminar todos los impares de una lista ordenada\n",
    "from random import randint\n",
    "lista = []\n",
    "for i in range (20):\n",
    "    lista.append(randint (1,100))\n",
    "#AHora debemos ordenar la lista e ir eliminando los elementos\n",
    "lista.sort()\n",
    "print (f\"Lista original:\\n{lista}\\n\\nLista par:\")\n",
    "\n",
    "lista_par = []\n",
    "for i in range(len(lista)):\n",
    "    if (lista[i]%2==0):\n",
    "        lista_par.append(lista[i])\n",
    "\n",
    "print (lista_par)\n",
    "\n"
   ]
  },
  {
   "cell_type": "code",
   "execution_count": 4,
   "id": "8abeb274-f159-4f2f-b478-3c03a9924573",
   "metadata": {},
   "outputs": [
    {
     "name": "stdout",
     "output_type": "stream",
     "text": [
      "La lista original es [1, 2, 2, 2, 3, 3, 3, 4, 4, 5, 6, 7, 7, 9, 9, 9, 10, 10, 11, 11]\n",
      "\n",
      "Las repeticiones son:\n",
      "\n",
      "Elementos repetidos:\n",
      "El elemento 2 se repite 3 veces\n",
      "El elemento 3 se repite 3 veces\n",
      "El elemento 4 se repite 2 veces\n",
      "El elemento 7 se repite 2 veces\n",
      "El elemento 9 se repite 3 veces\n",
      "El elemento 10 se repite 2 veces\n",
      "El elemento 11 se repite 2 veces\n"
     ]
    }
   ],
   "source": [
    "#Ejericio 4, Contar repetidos\n",
    "from random import randint\n",
    "lista = []\n",
    "for i in range (20):\n",
    "    lista.append(randint (1,11))\n",
    "    \n",
    "lista.sort()\n",
    "print(f\"La lista original es {lista}\\n\\nLas repeticiones son:\")\n",
    "\n",
    "\n",
    "contador = {}\n",
    "for i in lista:\n",
    "    if i in contador:\n",
    "        contador[i] += 1\n",
    "    else:\n",
    "        contador[i] = 1\n",
    "\n",
    "# Mostrar resultados\n",
    "print(\"\\nElementos repetidos:\")\n",
    "for cont, repeticiones in contador.items():\n",
    "    if repeticiones > 1:\n",
    "        print(f\"El elemento {cont} se repite {repeticiones} veces\")"
   ]
  },
  {
   "cell_type": "code",
   "execution_count": 5,
   "id": "fc69e8eb-f3b8-4b15-a098-e7dcfd0d13a9",
   "metadata": {},
   "outputs": [
    {
     "name": "stdout",
     "output_type": "stream",
     "text": [
      "La lista es [3, 3, 4, 5, 5, 6, 6, 12, 14, 14]\n",
      "\n",
      "\n",
      "3 3 3 \n",
      "3 3 3 \n",
      "4 4 4 4 \n",
      "5 5 5 5 5 \n",
      "5 5 5 5 5 \n",
      "6 6 6 6 6 6 \n",
      "6 6 6 6 6 6 \n",
      "12 12 12 12 12 12 12 12 12 12 12 12 \n",
      "14 14 14 14 14 14 14 14 14 14 14 14 14 14 \n",
      "14 14 14 14 14 14 14 14 14 14 14 14 14 14 \n"
     ]
    }
   ],
   "source": [
    "#Ejercicio 5 Imprimir n veces cada n numero. Por ejemplo si aparece el 5 va a imprimir 55555\n",
    "\n",
    "from random import randint\n",
    "lista = []\n",
    "for i in range (10):\n",
    "    lista.append(randint (1,15))\n",
    "    \n",
    "lista.sort()\n",
    "print(f\"La lista es {lista}\\n\\n\")\n",
    "\n",
    "for i in range (len(lista)):\n",
    "    aux = str (lista[i]) + \" \"\n",
    "    print (aux*lista[i])\n",
    "    \n",
    "\n",
    "\n"
   ]
  },
  {
   "cell_type": "markdown",
   "id": "90d1ea5b-ac91-47e6-aa2b-0cea9b581aed",
   "metadata": {},
   "source": [
    "***Ejercicio Tuplas***"
   ]
  },
  {
   "cell_type": "code",
   "execution_count": 6,
   "id": "fe4ac07e-9ae3-47fd-a68e-42843755a357",
   "metadata": {},
   "outputs": [
    {
     "name": "stdout",
     "output_type": "stream",
     "text": [
      "Las vocales totales son 14\n"
     ]
    }
   ],
   "source": [
    "#Ejercicio 1 Contar vocales de una tupla\n",
    "tupla = (\"Manzana\", \"Sol\", \"Aguila\", \"Tenorio\", \"Tukey\")\n",
    "vocales = (\"a\", \"e\",\"i\", \"o\", \"u\")\n",
    "cont = 0\n",
    "\n",
    "for palabra in (tupla):\n",
    "    for letra in palabra:\n",
    "        if letra.lower() in vocales:\n",
    "            cont +=1\n",
    "            \n",
    "print (f\"Las vocales totales son {cont}\")\n",
    "\n",
    "\n"
   ]
  },
  {
   "cell_type": "code",
   "execution_count": 7,
   "id": "ccd081d1-72ce-4878-ad16-18c35dfca318",
   "metadata": {},
   "outputs": [
    {
     "name": "stdout",
     "output_type": "stream",
     "text": [
      "C\n",
      "e\n",
      "p\n",
      "i\n",
      "l\n",
      "l\n",
      "o\n",
      "\n",
      "C\n",
      "a\n",
      "l\n",
      "e\n",
      "n\n",
      "d\n",
      "a\n",
      "r\n",
      "i\n",
      "o\n",
      "\n",
      "C\n",
      "a\n",
      "r\n",
      "g\n",
      "a\n",
      "d\n",
      "o\n",
      "r\n",
      "\n",
      "C\n",
      "u\n",
      "a\n",
      "d\n",
      "e\n",
      "r\n",
      "n\n",
      "o\n",
      "\n",
      "C\n",
      "a\n",
      "r\n",
      "p\n",
      "e\n",
      "t\n",
      "a\n",
      "\n",
      "La tupla tiene 40 letras\n"
     ]
    }
   ],
   "source": [
    "#Ejercicio 2 Imprimir letra por letra los elementos de una tupla y contar cuantos elementos tiene\n",
    "tupla = (\"Cepillo\",\"Calendario\",\"Cargador\",\"Cuaderno\",\"Carpeta\")\n",
    "cont = 0\n",
    "\n",
    "for palabra in tupla:\n",
    "    for letra in palabra:\n",
    "        print (letra)\n",
    "        cont +=1\n",
    "    print()\n",
    "print (f\"La tupla tiene {cont} letras\")"
   ]
  },
  {
   "cell_type": "code",
   "execution_count": 8,
   "id": "77de9344-0330-4712-896a-bd9228531e2c",
   "metadata": {},
   "outputs": [
    {
     "name": "stdout",
     "output_type": "stream",
     "text": [
      "La lista contiene los elementos: \n",
      "['Pulgas', 'Encendedor', 'Trapeador', 'Audifonos', 'Serie', 'Pantalla']\n",
      "Y es de tipo <class 'list'>\n",
      "\n",
      "\n",
      "La tupla ahora contiene los elementos: \n",
      "('Pulgas', 'Encendedor', 'Trapeador', 'Audifonos', 'Serie', 'Pantalla')\n",
      "Y es de tipo <class 'tuple'>\n",
      "\n",
      "\n"
     ]
    }
   ],
   "source": [
    "#Ejercicio 3 pasar una lista a tupla\n",
    "lista = [\"Pulgas\",\"Encendedor\",\"Trapeador\",\"Audifonos\",\"Serie\",\"Pantalla\"]\n",
    "print (f\"La lista contiene los elementos: \\n{lista}\\nY es de tipo {type(lista)}\\n\\n\")\n",
    "\n",
    "lista = tuple(lista)\n",
    "print (f\"La tupla ahora contiene los elementos: \\n{lista}\\nY es de tipo {type(lista)}\\n\\n\")\n"
   ]
  },
  {
   "cell_type": "code",
   "execution_count": 9,
   "id": "887dd600-4e73-4a49-8dd5-47aa102d56ab",
   "metadata": {},
   "outputs": [
    {
     "name": "stdout",
     "output_type": "stream",
     "text": [
      "La coordenada (2, 5) se encuentra en el primer cuadrante\n",
      "\n",
      "La coordenada (-3, 4) se encuentra en el segundo cuadrante\n",
      "\n",
      "La coordenada (8, -1) se encuentra en el cuarto cuadrante\n",
      "\n",
      "La coordenada (1, 1) se encuentra en el primer cuadrante\n",
      "\n",
      "La coordenada (-5, -7) se encuentra en el tercer cuadrante\n",
      "\n",
      "La coordenada (0, 6) se encuentra en el primer cuadrante\n",
      "\n"
     ]
    }
   ],
   "source": [
    "'''Ejercicio 4 La tupla contiene coordenadas cartesianas, \n",
    "y al pasarle una coordenada el programa tiene que determinar en que cuadrante se encuentra'''\n",
    "\n",
    "tupla = ((2, 5), (-3, 4), (8, -1), (1, 1), (-5, -7), (0, 6))\n",
    "\n",
    "for x,y in tupla:\n",
    "    if (x>=0 and y>=0):\n",
    "        print (f\"La coordenada {x,y} se encuentra en el primer cuadrante\\n\")\n",
    "    elif (x<0 and y>=0):\n",
    "        print (f\"La coordenada {x,y} se encuentra en el segundo cuadrante\\n\")\n",
    "    elif (x<0 and y<0):\n",
    "        print (f\"La coordenada {x,y} se encuentra en el tercer cuadrante\\n\")\n",
    "    elif (x>=0 and y<0):\n",
    "        print (f\"La coordenada {x,y} se encuentra en el cuarto cuadrante\\n\")\n",
    "\n",
    "            \n",
    "\n"
   ]
  },
  {
   "cell_type": "code",
   "execution_count": 10,
   "id": "db9f0f78-f52c-4fc5-bf5a-38826a0c9a05",
   "metadata": {},
   "outputs": [
    {
     "name": "stdout",
     "output_type": "stream",
     "text": [
      "El elemento 3.141592 es de tipo: <class 'float'>\n",
      "El elemento Jupyter Lab es de tipo: <class 'str'>\n",
      "El elemento [1, 2, 3, 4, 5] es de tipo: <class 'list'>\n",
      "\n",
      "La tupla quedaria de esta manera:\n",
      "(3.141592, 'Jupyter Lab', [1, 2, 3, 4, 5, 10])\n"
     ]
    }
   ],
   "source": [
    "#Ejercicio 5 Intentar modificar una lista dentro de una tupla e imprimir cada tipo de dato dentro de la tupla\n",
    "tuplaMix = (3.141592, \"Jupyter Lab\", [1,2,3,4,5] )\n",
    "for elemento in tuplaMix:\n",
    "    print (f\"El elemento {elemento} es de tipo: {type(elemento)}\")\n",
    "\n",
    "#Ahora vamos a querer actualizar la lista dentro de la tupla\n",
    "for elemento in tuplaMix:\n",
    "    if isinstance(elemento, list):\n",
    "        elemento.append (10) #Hemos a añadido el elemento 10 al final de la lista dentro de la tupla\n",
    "        \n",
    "print (f\"\\nLa tupla quedaria de esta manera:\\n{tuplaMix}\")\n",
    "\n",
    "\n"
   ]
  },
  {
   "cell_type": "code",
   "execution_count": null,
   "id": "c99bcb03-0937-43b9-ac86-d5c98937c8d9",
   "metadata": {},
   "outputs": [],
   "source": []
  }
 ],
 "metadata": {
  "kernelspec": {
   "display_name": "Python 3 (ipykernel)",
   "language": "python",
   "name": "python3"
  },
  "language_info": {
   "codemirror_mode": {
    "name": "ipython",
    "version": 3
   },
   "file_extension": ".py",
   "mimetype": "text/x-python",
   "name": "python",
   "nbconvert_exporter": "python",
   "pygments_lexer": "ipython3",
   "version": "3.12.3"
  }
 },
 "nbformat": 4,
 "nbformat_minor": 5
}
