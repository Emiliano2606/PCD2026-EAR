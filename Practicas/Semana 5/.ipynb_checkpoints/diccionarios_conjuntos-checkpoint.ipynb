{
 "cells": [
  {
   "cell_type": "markdown",
   "id": "a4d274ef-0055-49de-9155-2bee7555f8bd",
   "metadata": {},
   "source": [
    "📌 Tarea\n",
    "Crea un notebook llamado diccionarios_conjuntos.ipynb con 5 ejercicios resueltos. Ideas:\n",
    "\n",
    "Agenda de contactos usando dict: agregar, buscar, actualizar y eliminar.\n",
    "\n",
    "Frecuencia de palabras en un texto (dict) y top 3 más comunes.\n",
    "\n",
    "Alumnos inscritos en dos materias (sets): obtener intersección, unión y diferencia.\n",
    "\n",
    "Dado un listado con nombres repetidos, obtener el conjunto de nombres únicos y contarlos.\n",
    "\n",
    "Validar una lista de correos: usa un set para detectar duplicados y un dict para marcar válidos/ inválidos (simple: contiene @ y .).\n",
    "\n",
    "Incluye docstrings, comentarios y ejemplos de uso en cada ejercicio."
   ]
  },
  {
   "cell_type": "code",
   "execution_count": 1,
   "id": "00ed2e06-f007-48ab-b7fc-6aa9f1e8080d",
   "metadata": {},
   "outputs": [
    {
     "name": "stdout",
     "output_type": "stream",
     "text": [
      "El color Rojo se repite 3 veces\n"
     ]
    }
   ],
   "source": [
    "#Ejercicio 1 Cual es el color favorito\n",
    "\n",
    "Conjunto={\"Elena\":\"Rojo\",\"David\":\"Verde\",\"Sofia\":\"Verde\",\"Miguel\":\"Rojo\",\"Laura\":\"Morado\",\"Javier\":\"Rojo\"}\n",
    "\n",
    "Colores = list(Conjunto.values()) #Capturamos solo los valores y los guarmamos en una lista\n",
    "\n",
    "#Ahora debemos saber la frecuencia de cada color, Para ello vamos a crear otro diccionario en el que vamos a guardar color(llave) y frecuencia (valor)\n",
    "Colores_sin_reps = list(set(Colores)) #Ahora sabemos cuales son nuestras variables de colores sin repeticiones en formato de lista\n",
    "\n",
    "#Ahora debemos crear nuestro diccionario\n",
    "\n",
    "Frecuencia = {}\n",
    "\n",
    "for ColorLlave in Colores: #Recorre el arreglo de la lista de colores\n",
    "    if ColorLlave in Frecuencia: #Ahora debemos guardar el valor del color, si es un valor nuevo va a crear la llave y su valor va a ser uno, si no su valor va a aumentar\n",
    "        Frecuencia[ColorLlave] += 1\n",
    "    else:\n",
    "        Frecuencia [ColorLlave] = 1\n",
    "\n",
    "#Ya tenemos capturado los colores y sus repeticiones, ahora debemos elegir cual es el color mas repetido\n",
    "ColorFavorito = max(Frecuencia, key=Frecuencia.get) #max va a determinar cual es el valor mas grande, y va a devolver la llave que contiene ese valor\n",
    "ValorFrecuencia = Frecuencia[ColorFavorito] # asignamos a valorfrecuencia el valor que contiene la llave del elemento mas grande\n",
    "\n",
    "print (f\"El color {ColorFavorito} se repite {ValorFrecuencia} veces\")\n",
    "    \n",
    "\n",
    "\n"
   ]
  },
  {
   "cell_type": "code",
   "execution_count": 3,
   "id": "85684441-65c1-467e-84d4-5f0624f01400",
   "metadata": {},
   "outputs": [
    {
     "name": "stdout",
     "output_type": "stream",
     "text": [
      "El numero de nombres unicos son: 13 nombres\n"
     ]
    }
   ],
   "source": [
    "#Ejercicio 2 Dado un listado con nombres repetidos, obtener el conjunto de nombres únicos y contarlos.\n",
    "#Declaramos nuestra lista con nombres\n",
    "Nombres = [\"Sofía\", \"Miguel\", \"Elena\", \"David\", \"Laura\", \"Javier\", \"Sofía\", \"Ana\", \"Carlos\", \"Isabel\",\n",
    "           \"Miguel\", \"Elena\", \"Pedro\", \"Luisa\", \"David\", \"Javier\", \"Marta\", \"Sofía\", \"Carlos\", \"Jorge\"]\n",
    "#Ahora debemos de convertirla en un conjunto para eliminar los repetidos \n",
    "Nombres_Unicos = list(set(Nombres)) #Hago primero conjunto la lista de nombres para eliminar repetidos y luego la transformo en lista para poder contarla\n",
    "print (f\"El numero de nombres unicos son: {len(Nombres_Unicos)} nombres\")"
   ]
  },
  {
   "cell_type": "code",
   "execution_count": 4,
   "id": "0912e0b9-2fb7-4ba9-b646-e5b62289b6ef",
   "metadata": {},
   "outputs": [
    {
     "name": "stdout",
     "output_type": "stream",
     "text": [
      "['mesa', 'perro', 'verde', 'lola', 'sol']\n"
     ]
    }
   ],
   "source": [
    "#Ejercicio 3 Dados 2 listas devolver los elementos repetidos (Interseccion) entre esas dos listas\n",
    "Lista_A = [\"perro\", \"casa\", \"verde\", \"luz\", \"sol\", \"verde\", \"mesa\", \"lola\"]\n",
    "Lista_B = [\"mesa\", \"luna\", \"sol\", \"verde\", \"rojo\", \"agua\", \"rojo\", \"perro\", \"lola\"]\n",
    "\n",
    "#Primero debemos transformala a conjuntos y aplicar la interseccion (&)\n",
    "Lista_Intersec = list (set(Lista_A) & set (Lista_B))\n",
    "print (Lista_Intersec)"
   ]
  },
  {
   "cell_type": "code",
   "execution_count": 5,
   "id": "bafb2b0d-90cd-4fa1-b239-90eea02ad2d8",
   "metadata": {},
   "outputs": [
    {
     "name": "stdout",
     "output_type": "stream",
     "text": [
      "El mejor jugador es Chile Mexicano con un puntuaje de  15100\n"
     ]
    }
   ],
   "source": [
    "#Ejercicio 4 Ver quien tiene la mejor puntuacion en un juego\n",
    "#Establecemos la lsita con los puntuajes y usuarios\n",
    "Puntuaciones = {\"ZeldaXora\": 9500, \"MarioBros99\": 12500, \"Tsuru Tuneado\": 8900, \"Chile Mexicano\": 15100\n",
    "}\n",
    "\n",
    "Mejor_Jugador = max (Puntuaciones, key = Puntuaciones.get) #determinamos que llave contiene el valor mas alto y asigmaos esa llave a la variable de mejor jugador\n",
    "Mejor_Puntuaje = Puntuaciones [Mejor_Jugador] # llamamos a la llave que contiene el mejor puntuaje para ahora asignar el valor a mejor puntuaje\n",
    "\n",
    "print (f\"El mejor jugador es {Mejor_Jugador} con un puntuaje de  {Mejor_Puntuaje}\")"
   ]
  },
  {
   "cell_type": "code",
   "execution_count": 6,
   "id": "22e4afc1-126e-4dbf-8a81-2d939ae69b18",
   "metadata": {},
   "outputs": [
    {
     "name": "stdout",
     "output_type": "stream",
     "text": [
      "Nuestro usuario paga mensualmente 526 pesos en plataformas de streaming, siendo la mas cara la plataforma de Disney, con un costo de 149 pesos\n"
     ]
    }
   ],
   "source": [
    "#Ejercicio 5 Determinar cuanto gasta un usuario en sus plataformas de streaming y en cual paga mas mensuelamente\n",
    "Pago_Plataformas = {\"Disney\": 149 , \"Netflix\": 119, \"HBO Max\": 119, \"Vix\":139}\n",
    "\n",
    "#Primero vamos a determinar que llave contiene el precio mas alto\n",
    "Plataforma_Cara = max(Pago_Plataformas, key = Pago_Plataformas.get)\n",
    "Precio_Caro = Pago_Plataformas [Plataforma_Cara]\n",
    "\n",
    "#Ahora vamos a determinar cuanto gasta mensualmente\n",
    "Precios_Mensual = list(Pago_Plataformas.values())\n",
    "Valor_Mensual = sum(Precios_Mensual)\n",
    "\n",
    "print (f\"Nuestro usuario paga mensualmente {Valor_Mensual} pesos en plataformas de streaming, siendo la mas cara la plataforma de {Plataforma_Cara}, con un costo de {Precio_Caro} pesos\")"
   ]
  },
  {
   "cell_type": "code",
   "execution_count": null,
   "id": "daa17303-ffd4-4a0e-9aeb-416e5c611150",
   "metadata": {},
   "outputs": [],
   "source": []
  }
 ],
 "metadata": {
  "kernelspec": {
   "display_name": "Python 3 (ipykernel)",
   "language": "python",
   "name": "python3"
  },
  "language_info": {
   "codemirror_mode": {
    "name": "ipython",
    "version": 3
   },
   "file_extension": ".py",
   "mimetype": "text/x-python",
   "name": "python",
   "nbconvert_exporter": "python",
   "pygments_lexer": "ipython3",
   "version": "3.12.3"
  }
 },
 "nbformat": 4,
 "nbformat_minor": 5
}
